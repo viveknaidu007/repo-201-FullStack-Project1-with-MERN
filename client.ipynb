{
 "cells": [
  {
   "cell_type": "markdown",
   "metadata": {},
   "source": [
    "# Frontend"
   ]
  },
  {
   "cell_type": "markdown",
   "metadata": {},
   "source": [
    "# Login , Register, Forgot Password, Edit user details UI"
   ]
  },
  {
   "cell_type": "code",
   "execution_count": null,
   "metadata": {
    "vscode": {
     "languageId": "plaintext"
    }
   },
   "outputs": [],
   "source": [
    "cd ..\n",
    "npm create vite@latest\n",
    "  cd client\n",
    "  npm install\n",
    "  npm run dev"
   ]
  },
  {
   "cell_type": "code",
   "execution_count": null,
   "metadata": {
    "vscode": {
     "languageId": "plaintext"
    }
   },
   "outputs": [],
   "source": [
    "//App.jsx:\n",
    "\n",
    "import './App.css'\n",
    "\n",
    "function App() {\n",
    "  return (\n",
    "<main>\n",
    "  Vite App\n",
    "</main>\n",
    "  )\n",
    "}\n",
    "\n",
    "export default App"
   ]
  },
  {
   "cell_type": "code",
   "execution_count": null,
   "metadata": {
    "vscode": {
     "languageId": "plaintext"
    }
   },
   "outputs": [],
   "source": [
    "//tailwand:\n",
    "\n",
    "https://tailwindcss.com/docs/guides/vite#vue\n",
    "npm install -D tailwindcss postcss autoprefixer\n",
    "npx tailwindcss init -p //tailwind.config.js will create in root\n",
    "\n",
    "#add this in src/index.css:\n",
    "@tailwind base;\n",
    "@tailwind components;\n",
    "@tailwind utilities;\n",
    "\n",
    "#now check tailwind working or not:\n",
    "src/App.jsx:\n",
    "\n",
    "import './App.css'\n",
    "\n",
    "function App() {\n",
    "  return (\n",
    "<main className='text-red-500 text-3xl font-bold'>\n",
    "  Vite App\n",
    "</main>\n",
    "  )\n",
    "}\n",
    "\n",
    "export default App\n"
   ]
  },
  {
   "cell_type": "code",
   "execution_count": null,
   "metadata": {
    "vscode": {
     "languageId": "plaintext"
    }
   },
   "outputs": [],
   "source": [
    "#Now for routing pupose , one page to another , i will use React Router Dom\n",
    "\n",
    "https://reactrouter.com/\n",
    "https://reactrouter.com/6.28.0/start/overview\n",
    "\n",
    "npm i react-router-dom\n",
    "#now im creating my all routes should be in src/route\n",
    "\n",
    "//\n",
    "#src/index.jsx:\n",
    "import { createBrowserRouter} from \"react-router-dom\";\n",
    "import App from \"../App\";\n",
    "\n",
    "const router = createBrowserRouter([\n",
    "    {\n",
    "        path : \"/\",\n",
    "        element : <App/>\n",
    "    }\n",
    "])\n",
    "\n",
    "export default router\n",
    "\n",
    "//\n",
    "#main.jsx:\n",
    "#before:\n",
    "import { StrictMode } from 'react'\n",
    "import { createRoot } from 'react-dom/client'\n",
    "import './index.css'\n",
    "import App from './App.jsx'\n",
    "\n",
    "\n",
    "createRoot(document.getElementById('root')).render(\n",
    "  <StrictMode>\n",
    "    <App />\n",
    "  </StrictMode>,\n",
    ")\n",
    "\n",
    "#after:\n",
    "import { StrictMode } from 'react'\n",
    "import { createRoot } from 'react-dom/client'\n",
    "import './index.css'\n",
    "import App from './App.jsx'\n",
    "import { RouterProvider } from 'react-router-dom'\n",
    "import router from './route/index.jsx/index.js'\n",
    "\n",
    "createRoot(document.getElementById('root')).render(\n",
    "  <StrictMode>\n",
    "    <RouterProvider router={router}/>\n",
    "  </StrictMode>,\n",
    ")\n",
    "\n",
    "\n",
    "//\n",
    "#install this extention:\n",
    "ES7 React/Redux/GraphQL/React-Native snippets\n",
    "Tailwind CSS IntelliSense\n",
    "\n",
    "//\n",
    "src/pages//Home.jsx:\n",
    "rafce\n"
   ]
  },
  {
   "cell_type": "markdown",
   "metadata": {},
   "source": [
    "# Header Section\n"
   ]
  },
  {
   "cell_type": "code",
   "execution_count": null,
   "metadata": {
    "vscode": {
     "languageId": "plaintext"
    }
   },
   "outputs": [],
   "source": [
    "#create:\n",
    "\n",
    "src/components"
   ]
  },
  {
   "cell_type": "code",
   "execution_count": null,
   "metadata": {
    "vscode": {
     "languageId": "plaintext"
    }
   },
   "outputs": [],
   "source": [
    "https://react-icons.github.io/react-icons/\n",
    "npm i react-icons --save\n",
    "\n",
    "\n"
   ]
  },
  {
   "cell_type": "markdown",
   "metadata": {},
   "source": [
    "# footer:"
   ]
  },
  {
   "cell_type": "code",
   "execution_count": null,
   "metadata": {
    "vscode": {
     "languageId": "plaintext"
    }
   },
   "outputs": [],
   "source": [
    "# footer:"
   ]
  },
  {
   "cell_type": "code",
   "execution_count": null,
   "metadata": {},
   "outputs": [],
   "source": [
    "//tailwind.config.js:\n",
    "\n",
    "#before:\n",
    "/** @type {import('tailwindcss').Config} */\n",
    "export default {\n",
    "  content: [\n",
    "    \"./index.html\",\n",
    "    \"./src/**/*.{vue,js,ts,jsx,tsx}\",\n",
    "  ],\n",
    "  theme: {\n",
    "    extend: {},\n",
    "  },\n",
    "  plugins: [],\n",
    "}\n",
    "\n",
    "\n",
    "#after:\n",
    "/** @type {import('tailwindcss').Config} */\n",
    "export default {\n",
    "  content: [\n",
    "    \"./index.html\",\n",
    "    \"./src/**/*.{vue,js,ts,jsx,tsx}\",\n",
    "  ],\n",
    "  theme: {\n",
    "    extend: {\n",
    "      colors : {\n",
    "        \"primary-200\" : \"#ffbg00\",\n",
    "        \"primary-100\" : \"#ffc929\",\n",
    "        \"secondary-200\" : \"#00b050\",\n",
    "        \"secondary-light\" : \"#0b1a78\",\n",
    "      }\n",
    "    },\n",
    "  },\n",
    "  plugins: [],\n",
    "}"
   ]
  },
  {
   "cell_type": "code",
   "execution_count": null,
   "metadata": {},
   "outputs": [],
   "source": [
    "#components/footer:\n",
    "import React from 'react'\n",
    "import { FaFacebook, FaInstagram } from \"react-icons/fa\";\n",
    "import { FaInstagramSquare } from \"react-icons/fa\";\n",
    "import { FaLinkedin } from \"react-icons/fa\";\n",
    "\n",
    "const Footer = () => {\n",
    "  return (\n",
    "    <footer className='border-t'>\n",
    "        <div className='container mx-auto p-5 text-center flex flex-col lg:flex-row lg:justify-between gap-2'>\n",
    "            <p>© All Rights Reserved 2024</p>\n",
    "\n",
    "            <div className='flex items-center gap-6 justify-center text-2xl'>\n",
    "                <a href='' className='hover:text-primary-100'>\n",
    "                    <FaFacebook/>\n",
    "                </a>\n",
    "\n",
    "                <a href='' className='hover:text-primary-100'>\n",
    "                    <FaInstagram/>\n",
    "                </a>\n",
    "\n",
    "                <a href='' className='hover:text-primary-100'>\n",
    "                <FaLinkedin />\n",
    "                </a>\n",
    "\n",
    "            </div>\n",
    "\n",
    "        </div>\n",
    "\n",
    "    </footer>\n",
    "  )\n",
    "}\n",
    "\n",
    "export default Footer\n",
    "\n",
    "\n",
    "#App.jsx:\n",
    "# after giving this \"className='min-h-[78vh]\" the footer came to bottom of page\n",
    "import './App.css'\n",
    "import Header from \"./components/Header\"\n",
    "import { Outlet } from 'react-router-dom'\n",
    "import Footer from './components/Footer'\n",
    "\n",
    "function App() {\n",
    "  return (\n",
    "    <>\n",
    "    <Header/>\n",
    "    <main className='min-h-[78vh]'>\n",
    "      <Outlet/>\n",
    "    </main>\n",
    "    <Footer/>\n",
    "    \n",
    "    </>\n",
    "  )\n",
    "}\n",
    "\n",
    "export default App\n"
   ]
  },
  {
   "cell_type": "markdown",
   "metadata": {},
   "source": [
    "# Header"
   ]
  },
  {
   "cell_type": "code",
   "execution_count": null,
   "metadata": {},
   "outputs": [],
   "source": [
    "#copy the images to src/assests"
   ]
  },
  {
   "cell_type": "code",
   "execution_count": null,
   "metadata": {},
   "outputs": [],
   "source": [
    "# Header.jsx:\n",
    "\n",
    "#before:\n",
    "import React from 'react'\n",
    "\n",
    "\n",
    "const Header = () => {\n",
    "  return (\n",
    "    <header className='h-20 shadow-md sticky top-0'>\n",
    "      Logo\n",
    "      {/** logo */}\n",
    "\n",
    "\n",
    "      {/** */}\n",
    "\n",
    "\n",
    "      {/** */}\n",
    "    </header>\n",
    "    )\n",
    "}\n",
    "\n",
    "export default Header\n",
    "\n",
    "\n",
    "#after:\n"
   ]
  },
  {
   "cell_type": "code",
   "execution_count": null,
   "metadata": {},
   "outputs": [],
   "source": [
    "#Search.jsx:\n",
    "\n",
    "rafce\n",
    "\n",
    "#https://react-icons.github.io/react-icons/\n",
    "\n",
    "#https://www.npmjs.com/package/react-type-animation\n",
    "npm install react-type-animation\n",
    "\n",
    "\n",
    "\n",
    "//\n",
    "#src/pages/Searchpage.jsx:\n"
   ]
  },
  {
   "cell_type": "code",
   "execution_count": null,
   "metadata": {},
   "outputs": [],
   "source": [
    "# lg"
   ]
  },
  {
   "cell_type": "markdown",
   "metadata": {},
   "source": [
    "In Tailwind CSS, `lg:` is a **responsive breakpoint prefix**. It specifies that the styles it modifies will apply only when the viewport width is at least **1024px** (default `lg` breakpoint). \n",
    "\n",
    "Here's the breakdown of your example:\n",
    "\n",
    "### Code:\n",
    "```html\n",
    "h-20 shadow-md sticky top-0 bg-red-500\n",
    "lg:h-20 shadow-md sticky top-0 bg-red-500\n",
    "```\n",
    "\n",
    "### What Happens:\n",
    "1. **Without the `lg:` prefix**:\n",
    "   - `h-20 shadow-md sticky top-0 bg-red-500` will apply these styles for all screen sizes.\n",
    "   \n",
    "2. **With the `lg:` prefix**:\n",
    "   - `lg:h-20` overrides `h-20` only when the screen width is **1024px or larger**.\n",
    "\n",
    "### Example Scenarios:\n",
    "- **Small screens (less than 1024px)**:  \n",
    "  The `h-20` (height of 5rem) applies.\n",
    "\n",
    "- **Large screens (1024px and above)**:  \n",
    "  The `lg:h-20` ensures that `h-20` continues to apply, but technically, it doesn't change anything here since the values are the same.\n",
    "\n",
    "---\n"
   ]
  },
  {
   "cell_type": "markdown",
   "metadata": {},
   "source": [
    "# Custom Hooks"
   ]
  },
  {
   "cell_type": "code",
   "execution_count": null,
   "metadata": {},
   "outputs": [],
   "source": [
    "#src/hooks/useMobile.jsx:\n",
    "\n"
   ]
  }
 ],
 "metadata": {
  "language_info": {
   "name": "python"
  }
 },
 "nbformat": 4,
 "nbformat_minor": 2
}
